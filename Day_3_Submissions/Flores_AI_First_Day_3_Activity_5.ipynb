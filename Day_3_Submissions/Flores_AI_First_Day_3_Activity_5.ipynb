{
  "nbformat": 4,
  "nbformat_minor": 0,
  "metadata": {
    "colab": {
      "provenance": []
    },
    "kernelspec": {
      "name": "python3",
      "display_name": "Python 3"
    },
    "language_info": {
      "name": "python"
    }
  },
  "cells": [
    {
      "cell_type": "code",
      "execution_count": 1,
      "metadata": {
        "colab": {
          "base_uri": "https://localhost:8080/"
        },
        "id": "mCW6MxKq5ptQ",
        "outputId": "11c21fde-54cc-42d3-9f31-997433fffbb7"
      },
      "outputs": [
        {
          "output_type": "stream",
          "name": "stdout",
          "text": [
            "Collecting openai==0.28.1\n",
            "  Downloading openai-0.28.1-py3-none-any.whl.metadata (11 kB)\n",
            "Requirement already satisfied: requests>=2.20 in /usr/local/lib/python3.10/dist-packages (from openai==0.28.1) (2.32.3)\n",
            "Requirement already satisfied: tqdm in /usr/local/lib/python3.10/dist-packages (from openai==0.28.1) (4.66.6)\n",
            "Requirement already satisfied: aiohttp in /usr/local/lib/python3.10/dist-packages (from openai==0.28.1) (3.10.10)\n",
            "Requirement already satisfied: charset-normalizer<4,>=2 in /usr/local/lib/python3.10/dist-packages (from requests>=2.20->openai==0.28.1) (3.4.0)\n",
            "Requirement already satisfied: idna<4,>=2.5 in /usr/local/lib/python3.10/dist-packages (from requests>=2.20->openai==0.28.1) (3.10)\n",
            "Requirement already satisfied: urllib3<3,>=1.21.1 in /usr/local/lib/python3.10/dist-packages (from requests>=2.20->openai==0.28.1) (2.2.3)\n",
            "Requirement already satisfied: certifi>=2017.4.17 in /usr/local/lib/python3.10/dist-packages (from requests>=2.20->openai==0.28.1) (2024.8.30)\n",
            "Requirement already satisfied: aiohappyeyeballs>=2.3.0 in /usr/local/lib/python3.10/dist-packages (from aiohttp->openai==0.28.1) (2.4.3)\n",
            "Requirement already satisfied: aiosignal>=1.1.2 in /usr/local/lib/python3.10/dist-packages (from aiohttp->openai==0.28.1) (1.3.1)\n",
            "Requirement already satisfied: attrs>=17.3.0 in /usr/local/lib/python3.10/dist-packages (from aiohttp->openai==0.28.1) (24.2.0)\n",
            "Requirement already satisfied: frozenlist>=1.1.1 in /usr/local/lib/python3.10/dist-packages (from aiohttp->openai==0.28.1) (1.5.0)\n",
            "Requirement already satisfied: multidict<7.0,>=4.5 in /usr/local/lib/python3.10/dist-packages (from aiohttp->openai==0.28.1) (6.1.0)\n",
            "Requirement already satisfied: yarl<2.0,>=1.12.0 in /usr/local/lib/python3.10/dist-packages (from aiohttp->openai==0.28.1) (1.17.0)\n",
            "Requirement already satisfied: async-timeout<5.0,>=4.0 in /usr/local/lib/python3.10/dist-packages (from aiohttp->openai==0.28.1) (4.0.3)\n",
            "Requirement already satisfied: typing-extensions>=4.1.0 in /usr/local/lib/python3.10/dist-packages (from multidict<7.0,>=4.5->aiohttp->openai==0.28.1) (4.12.2)\n",
            "Requirement already satisfied: propcache>=0.2.0 in /usr/local/lib/python3.10/dist-packages (from yarl<2.0,>=1.12.0->aiohttp->openai==0.28.1) (0.2.0)\n",
            "Downloading openai-0.28.1-py3-none-any.whl (76 kB)\n",
            "\u001b[2K   \u001b[90m━━━━━━━━━━━━━━━━━━━━━━━━━━━━━━━━━━━━━━━━\u001b[0m \u001b[32m77.0/77.0 kB\u001b[0m \u001b[31m2.0 MB/s\u001b[0m eta \u001b[36m0:00:00\u001b[0m\n",
            "\u001b[?25hInstalling collected packages: openai\n",
            "  Attempting uninstall: openai\n",
            "    Found existing installation: openai 1.52.2\n",
            "    Uninstalling openai-1.52.2:\n",
            "      Successfully uninstalled openai-1.52.2\n",
            "Successfully installed openai-0.28.1\n",
            "Collecting tiktoken==0.6.0\n",
            "  Downloading tiktoken-0.6.0-cp310-cp310-manylinux_2_17_x86_64.manylinux2014_x86_64.whl.metadata (6.6 kB)\n",
            "Requirement already satisfied: regex>=2022.1.18 in /usr/local/lib/python3.10/dist-packages (from tiktoken==0.6.0) (2024.9.11)\n",
            "Requirement already satisfied: requests>=2.26.0 in /usr/local/lib/python3.10/dist-packages (from tiktoken==0.6.0) (2.32.3)\n",
            "Requirement already satisfied: charset-normalizer<4,>=2 in /usr/local/lib/python3.10/dist-packages (from requests>=2.26.0->tiktoken==0.6.0) (3.4.0)\n",
            "Requirement already satisfied: idna<4,>=2.5 in /usr/local/lib/python3.10/dist-packages (from requests>=2.26.0->tiktoken==0.6.0) (3.10)\n",
            "Requirement already satisfied: urllib3<3,>=1.21.1 in /usr/local/lib/python3.10/dist-packages (from requests>=2.26.0->tiktoken==0.6.0) (2.2.3)\n",
            "Requirement already satisfied: certifi>=2017.4.17 in /usr/local/lib/python3.10/dist-packages (from requests>=2.26.0->tiktoken==0.6.0) (2024.8.30)\n",
            "Downloading tiktoken-0.6.0-cp310-cp310-manylinux_2_17_x86_64.manylinux2014_x86_64.whl (1.8 MB)\n",
            "\u001b[2K   \u001b[90m━━━━━━━━━━━━━━━━━━━━━━━━━━━━━━━━━━━━━━━━\u001b[0m \u001b[32m1.8/1.8 MB\u001b[0m \u001b[31m15.8 MB/s\u001b[0m eta \u001b[36m0:00:00\u001b[0m\n",
            "\u001b[?25hInstalling collected packages: tiktoken\n",
            "Successfully installed tiktoken-0.6.0\n",
            "Collecting langchain==0.1.20\n",
            "  Downloading langchain-0.1.20-py3-none-any.whl.metadata (13 kB)\n",
            "Requirement already satisfied: PyYAML>=5.3 in /usr/local/lib/python3.10/dist-packages (from langchain==0.1.20) (6.0.2)\n",
            "Requirement already satisfied: SQLAlchemy<3,>=1.4 in /usr/local/lib/python3.10/dist-packages (from langchain==0.1.20) (2.0.36)\n",
            "Requirement already satisfied: aiohttp<4.0.0,>=3.8.3 in /usr/local/lib/python3.10/dist-packages (from langchain==0.1.20) (3.10.10)\n",
            "Requirement already satisfied: async-timeout<5.0.0,>=4.0.0 in /usr/local/lib/python3.10/dist-packages (from langchain==0.1.20) (4.0.3)\n",
            "Collecting dataclasses-json<0.7,>=0.5.7 (from langchain==0.1.20)\n",
            "  Downloading dataclasses_json-0.6.7-py3-none-any.whl.metadata (25 kB)\n",
            "Collecting langchain-community<0.1,>=0.0.38 (from langchain==0.1.20)\n",
            "  Downloading langchain_community-0.0.38-py3-none-any.whl.metadata (8.7 kB)\n",
            "Collecting langchain-core<0.2.0,>=0.1.52 (from langchain==0.1.20)\n",
            "  Downloading langchain_core-0.1.52-py3-none-any.whl.metadata (5.9 kB)\n",
            "Collecting langchain-text-splitters<0.1,>=0.0.1 (from langchain==0.1.20)\n",
            "  Downloading langchain_text_splitters-0.0.2-py3-none-any.whl.metadata (2.2 kB)\n",
            "Requirement already satisfied: langsmith<0.2.0,>=0.1.17 in /usr/local/lib/python3.10/dist-packages (from langchain==0.1.20) (0.1.137)\n",
            "Requirement already satisfied: numpy<2,>=1 in /usr/local/lib/python3.10/dist-packages (from langchain==0.1.20) (1.26.4)\n",
            "Requirement already satisfied: pydantic<3,>=1 in /usr/local/lib/python3.10/dist-packages (from langchain==0.1.20) (2.9.2)\n",
            "Requirement already satisfied: requests<3,>=2 in /usr/local/lib/python3.10/dist-packages (from langchain==0.1.20) (2.32.3)\n",
            "Collecting tenacity<9.0.0,>=8.1.0 (from langchain==0.1.20)\n",
            "  Downloading tenacity-8.5.0-py3-none-any.whl.metadata (1.2 kB)\n",
            "Requirement already satisfied: aiohappyeyeballs>=2.3.0 in /usr/local/lib/python3.10/dist-packages (from aiohttp<4.0.0,>=3.8.3->langchain==0.1.20) (2.4.3)\n",
            "Requirement already satisfied: aiosignal>=1.1.2 in /usr/local/lib/python3.10/dist-packages (from aiohttp<4.0.0,>=3.8.3->langchain==0.1.20) (1.3.1)\n",
            "Requirement already satisfied: attrs>=17.3.0 in /usr/local/lib/python3.10/dist-packages (from aiohttp<4.0.0,>=3.8.3->langchain==0.1.20) (24.2.0)\n",
            "Requirement already satisfied: frozenlist>=1.1.1 in /usr/local/lib/python3.10/dist-packages (from aiohttp<4.0.0,>=3.8.3->langchain==0.1.20) (1.5.0)\n",
            "Requirement already satisfied: multidict<7.0,>=4.5 in /usr/local/lib/python3.10/dist-packages (from aiohttp<4.0.0,>=3.8.3->langchain==0.1.20) (6.1.0)\n",
            "Requirement already satisfied: yarl<2.0,>=1.12.0 in /usr/local/lib/python3.10/dist-packages (from aiohttp<4.0.0,>=3.8.3->langchain==0.1.20) (1.17.0)\n",
            "Collecting marshmallow<4.0.0,>=3.18.0 (from dataclasses-json<0.7,>=0.5.7->langchain==0.1.20)\n",
            "  Downloading marshmallow-3.23.0-py3-none-any.whl.metadata (7.6 kB)\n",
            "Collecting typing-inspect<1,>=0.4.0 (from dataclasses-json<0.7,>=0.5.7->langchain==0.1.20)\n",
            "  Downloading typing_inspect-0.9.0-py3-none-any.whl.metadata (1.5 kB)\n",
            "Requirement already satisfied: jsonpatch<2.0,>=1.33 in /usr/local/lib/python3.10/dist-packages (from langchain-core<0.2.0,>=0.1.52->langchain==0.1.20) (1.33)\n",
            "Collecting packaging<24.0,>=23.2 (from langchain-core<0.2.0,>=0.1.52->langchain==0.1.20)\n",
            "  Downloading packaging-23.2-py3-none-any.whl.metadata (3.2 kB)\n",
            "Requirement already satisfied: httpx<1,>=0.23.0 in /usr/local/lib/python3.10/dist-packages (from langsmith<0.2.0,>=0.1.17->langchain==0.1.20) (0.27.2)\n",
            "Requirement already satisfied: orjson<4.0.0,>=3.9.14 in /usr/local/lib/python3.10/dist-packages (from langsmith<0.2.0,>=0.1.17->langchain==0.1.20) (3.10.10)\n",
            "Requirement already satisfied: requests-toolbelt<2.0.0,>=1.0.0 in /usr/local/lib/python3.10/dist-packages (from langsmith<0.2.0,>=0.1.17->langchain==0.1.20) (1.0.0)\n",
            "Requirement already satisfied: annotated-types>=0.6.0 in /usr/local/lib/python3.10/dist-packages (from pydantic<3,>=1->langchain==0.1.20) (0.7.0)\n",
            "Requirement already satisfied: pydantic-core==2.23.4 in /usr/local/lib/python3.10/dist-packages (from pydantic<3,>=1->langchain==0.1.20) (2.23.4)\n",
            "Requirement already satisfied: typing-extensions>=4.6.1 in /usr/local/lib/python3.10/dist-packages (from pydantic<3,>=1->langchain==0.1.20) (4.12.2)\n",
            "Requirement already satisfied: charset-normalizer<4,>=2 in /usr/local/lib/python3.10/dist-packages (from requests<3,>=2->langchain==0.1.20) (3.4.0)\n",
            "Requirement already satisfied: idna<4,>=2.5 in /usr/local/lib/python3.10/dist-packages (from requests<3,>=2->langchain==0.1.20) (3.10)\n",
            "Requirement already satisfied: urllib3<3,>=1.21.1 in /usr/local/lib/python3.10/dist-packages (from requests<3,>=2->langchain==0.1.20) (2.2.3)\n",
            "Requirement already satisfied: certifi>=2017.4.17 in /usr/local/lib/python3.10/dist-packages (from requests<3,>=2->langchain==0.1.20) (2024.8.30)\n",
            "Requirement already satisfied: greenlet!=0.4.17 in /usr/local/lib/python3.10/dist-packages (from SQLAlchemy<3,>=1.4->langchain==0.1.20) (3.1.1)\n",
            "Requirement already satisfied: anyio in /usr/local/lib/python3.10/dist-packages (from httpx<1,>=0.23.0->langsmith<0.2.0,>=0.1.17->langchain==0.1.20) (3.7.1)\n",
            "Requirement already satisfied: httpcore==1.* in /usr/local/lib/python3.10/dist-packages (from httpx<1,>=0.23.0->langsmith<0.2.0,>=0.1.17->langchain==0.1.20) (1.0.6)\n",
            "Requirement already satisfied: sniffio in /usr/local/lib/python3.10/dist-packages (from httpx<1,>=0.23.0->langsmith<0.2.0,>=0.1.17->langchain==0.1.20) (1.3.1)\n",
            "Requirement already satisfied: h11<0.15,>=0.13 in /usr/local/lib/python3.10/dist-packages (from httpcore==1.*->httpx<1,>=0.23.0->langsmith<0.2.0,>=0.1.17->langchain==0.1.20) (0.14.0)\n",
            "Requirement already satisfied: jsonpointer>=1.9 in /usr/local/lib/python3.10/dist-packages (from jsonpatch<2.0,>=1.33->langchain-core<0.2.0,>=0.1.52->langchain==0.1.20) (3.0.0)\n",
            "Collecting mypy-extensions>=0.3.0 (from typing-inspect<1,>=0.4.0->dataclasses-json<0.7,>=0.5.7->langchain==0.1.20)\n",
            "  Downloading mypy_extensions-1.0.0-py3-none-any.whl.metadata (1.1 kB)\n",
            "Requirement already satisfied: propcache>=0.2.0 in /usr/local/lib/python3.10/dist-packages (from yarl<2.0,>=1.12.0->aiohttp<4.0.0,>=3.8.3->langchain==0.1.20) (0.2.0)\n",
            "Requirement already satisfied: exceptiongroup in /usr/local/lib/python3.10/dist-packages (from anyio->httpx<1,>=0.23.0->langsmith<0.2.0,>=0.1.17->langchain==0.1.20) (1.2.2)\n",
            "Downloading langchain-0.1.20-py3-none-any.whl (1.0 MB)\n",
            "\u001b[2K   \u001b[90m━━━━━━━━━━━━━━━━━━━━━━━━━━━━━━━━━━━━━━━━\u001b[0m \u001b[32m1.0/1.0 MB\u001b[0m \u001b[31m20.4 MB/s\u001b[0m eta \u001b[36m0:00:00\u001b[0m\n",
            "\u001b[?25hDownloading dataclasses_json-0.6.7-py3-none-any.whl (28 kB)\n",
            "Downloading langchain_community-0.0.38-py3-none-any.whl (2.0 MB)\n",
            "\u001b[2K   \u001b[90m━━━━━━━━━━━━━━━━━━━━━━━━━━━━━━━━━━━━━━━━\u001b[0m \u001b[32m2.0/2.0 MB\u001b[0m \u001b[31m55.0 MB/s\u001b[0m eta \u001b[36m0:00:00\u001b[0m\n",
            "\u001b[?25hDownloading langchain_core-0.1.52-py3-none-any.whl (302 kB)\n",
            "\u001b[2K   \u001b[90m━━━━━━━━━━━━━━━━━━━━━━━━━━━━━━━━━━━━━━━━\u001b[0m \u001b[32m302.9/302.9 kB\u001b[0m \u001b[31m22.1 MB/s\u001b[0m eta \u001b[36m0:00:00\u001b[0m\n",
            "\u001b[?25hDownloading langchain_text_splitters-0.0.2-py3-none-any.whl (23 kB)\n",
            "Downloading tenacity-8.5.0-py3-none-any.whl (28 kB)\n",
            "Downloading marshmallow-3.23.0-py3-none-any.whl (49 kB)\n",
            "\u001b[2K   \u001b[90m━━━━━━━━━━━━━━━━━━━━━━━━━━━━━━━━━━━━━━━━\u001b[0m \u001b[32m49.5/49.5 kB\u001b[0m \u001b[31m2.7 MB/s\u001b[0m eta \u001b[36m0:00:00\u001b[0m\n",
            "\u001b[?25hDownloading packaging-23.2-py3-none-any.whl (53 kB)\n",
            "\u001b[2K   \u001b[90m━━━━━━━━━━━━━━━━━━━━━━━━━━━━━━━━━━━━━━━━\u001b[0m \u001b[32m53.0/53.0 kB\u001b[0m \u001b[31m2.7 MB/s\u001b[0m eta \u001b[36m0:00:00\u001b[0m\n",
            "\u001b[?25hDownloading typing_inspect-0.9.0-py3-none-any.whl (8.8 kB)\n",
            "Downloading mypy_extensions-1.0.0-py3-none-any.whl (4.7 kB)\n",
            "Installing collected packages: tenacity, packaging, mypy-extensions, typing-inspect, marshmallow, dataclasses-json, langchain-core, langchain-text-splitters, langchain-community, langchain\n",
            "  Attempting uninstall: tenacity\n",
            "    Found existing installation: tenacity 9.0.0\n",
            "    Uninstalling tenacity-9.0.0:\n",
            "      Successfully uninstalled tenacity-9.0.0\n",
            "  Attempting uninstall: packaging\n",
            "    Found existing installation: packaging 24.1\n",
            "    Uninstalling packaging-24.1:\n",
            "      Successfully uninstalled packaging-24.1\n",
            "  Attempting uninstall: langchain-core\n",
            "    Found existing installation: langchain-core 0.3.13\n",
            "    Uninstalling langchain-core-0.3.13:\n",
            "      Successfully uninstalled langchain-core-0.3.13\n",
            "  Attempting uninstall: langchain-text-splitters\n",
            "    Found existing installation: langchain-text-splitters 0.3.0\n",
            "    Uninstalling langchain-text-splitters-0.3.0:\n",
            "      Successfully uninstalled langchain-text-splitters-0.3.0\n",
            "  Attempting uninstall: langchain\n",
            "    Found existing installation: langchain 0.3.4\n",
            "    Uninstalling langchain-0.3.4:\n",
            "      Successfully uninstalled langchain-0.3.4\n",
            "Successfully installed dataclasses-json-0.6.7 langchain-0.1.20 langchain-community-0.0.38 langchain-core-0.1.52 langchain-text-splitters-0.0.2 marshmallow-3.23.0 mypy-extensions-1.0.0 packaging-23.2 tenacity-8.5.0 typing-inspect-0.9.0\n"
          ]
        }
      ],
      "source": [
        "!pip install openai==0.28.1\n",
        "#Gets the number of tokens and computes price\n",
        "!pip install tiktoken==0.6.0\n",
        "# langchain\n",
        "!pip install langchain==0.1.20"
      ]
    },
    {
      "cell_type": "code",
      "source": [
        "import os\n",
        "import openai\n",
        "import numpy as np\n",
        "import pandas as pd\n",
        "import json\n",
        "from langchain.chat_models import ChatOpenAI\n",
        "from langchain.document_loaders import CSVLoader\n",
        "from langchain.embeddings import OpenAIEmbeddings\n",
        "from langchain.prompts import ChatPromptTemplate\n",
        "from langchain.vectorstores import Chroma\n",
        "from langchain_core.output_parsers import StrOutputParser\n",
        "from langchain_core.runnables import RunnableLambda, RunnablePassthrough\n",
        "from openai.embeddings_utils import get_embedding"
      ],
      "metadata": {
        "id": "3NrL5God55MM"
      },
      "execution_count": 2,
      "outputs": []
    },
    {
      "cell_type": "code",
      "source": [
        "openai.api_key = \"OPENAI_API_KEY\""
      ],
      "metadata": {
        "id": "Y05u9vj4Bp1N"
      },
      "execution_count": null,
      "outputs": []
    },
    {
      "cell_type": "code",
      "source": [
        "from google.colab import userdata\n",
        "# Retrieve the API key directly from Colab's secret storage\n",
        "openai.api_key = userdata.get(\"OPENAI_API_KEY\")"
      ],
      "metadata": {
        "id": "voGsu9Oe55n-"
      },
      "execution_count": 6,
      "outputs": []
    },
    {
      "cell_type": "markdown",
      "source": [
        "# **Need a helping hand in your Research paper? This chatbot can guide students in crafting high-quality research papers by providing step-by-step, factual, and topic-specific advice for each section.**"
      ],
      "metadata": {
        "id": "hirZvvyVCpmG"
      }
    },
    {
      "cell_type": "markdown",
      "source": [
        "This will help students choose methodologies, identify research gaps, and develop structured, unique content with clear examples, ensuring a comprehensive understanding of the research process."
      ],
      "metadata": {
        "id": "aajAiri9DNet"
      }
    },
    {
      "cell_type": "code",
      "source": [
        "System_Prompt = \"\"\"\n",
        "You are Gilgamesh, a friendly and highly knowledgeable scientist researcher with a PhD in fields spanning Data Science, Computer Science, Linguistics, Social Science, Mathematics, Biology, Medical Technology, Optometry, Pharmacy, Computer Engineering, Information Technology, Artificial Intelligence, Data Analytics, and more. Your purpose is to guide students through the process of creating high-quality, unique research papers at every stage.\n",
        "\n",
        "Gilgamesh provides factual information and tailored, specific examples for each section of the paper, based on the student's topic. Additionally, Gilgamesh can create and suggest visualizations (graphs, charts, diagrams, etc.) that enhance data presentation and interpretation, making research findings clear and impactful.\n",
        "\n",
        "### Key Responsibilities:\n",
        "\n",
        "**1. Provide Tailored, Step-by-Step Guidance with Specific Examples:**\n",
        "   - For each section of a research paper, Gilgamesh should provide practical examples aligned with the student’s topic, such as methodologies, data analysis techniques, or ways to structure a problem statement based on the specific subject.\n",
        "   - Gilgamesh avoids speculative answers, ensuring responses are based on factual guidance and sound research practices.\n",
        "\n",
        "**2. Identify Research Gaps and Suggest Appropriate Methodologies:**\n",
        "   - Help students identify gaps in their research field and suggest methodologies that suit their research questions.\n",
        "   - For instance, if a student’s topic is about remote work and productivity, Gilgamesh might recommend surveys or observational studies and explain the advantages of each for this specific topic.\n",
        "\n",
        "**3. Design Relevant Visualizations to Enhance Data Presentation:**\n",
        "   - Guide students in choosing and creating appropriate visualizations for their research findings, such as bar graphs, line charts, scatter plots, or thematic diagrams, and explain why each visualization is suitable.\n",
        "   - When relevant, Gilgamesh should offer sample visualizations based on the dataset or topic provided. For example, for a topic on remote work productivity, Gilgamesh might suggest a time-series graph to display productivity changes over time or a pie chart to show productivity distribution across job sectors.\n",
        "\n",
        "### Section-by-Section Guidance with Visual Examples and Methodological Support:\n",
        "\n",
        "- **Introduction**:\n",
        "  - Guide students on introducing their topic broadly and narrowing it to the specific research question.\n",
        "  - Provide an example introduction structure for clarity, such as starting with background information, then discussing existing research, and ending with the primary research question.\n",
        "\n",
        "- **Problem Statement**:\n",
        "  - Teach students to define a clear, researchable problem that addresses a specific gap in the field.\n",
        "  - Provide an example based on the student’s topic, such as a statement that specifies the problem scope, the affected population, and the relevance to current trends.\n",
        "\n",
        "- **Literature Review**:\n",
        "  - Explain how to review and synthesize findings from existing literature.\n",
        "  - Suggest relevant sources and themes that may be valuable for a particular topic. For example, if the topic involves remote work, Gilgamesh might suggest summarizing themes related to productivity metrics and worker well-being.\n",
        "\n",
        "- **Methodology**:\n",
        "  - Guide students in selecting the most appropriate methodology, whether qualitative, quantitative, or mixed methods, with clear examples based on their topic.\n",
        "  - Gilgamesh might recommend a quantitative survey paired with qualitative interviews for a study on remote work productivity and explain how each approach complements the other.\n",
        "\n",
        "- **Significance of the Study**:\n",
        "  - Assist students in articulating the potential contributions of their study, both practical and theoretical.\n",
        "\n",
        "- **Scope and Limitations**:\n",
        "  - Explain how to define a realistic scope and address study limitations, using examples like geographic focus or data constraints.\n",
        "\n",
        "- **Conceptual/Theoretical Framework (Optional)**:\n",
        "  - Guide students in developing a framework when necessary, showing how to structure it based on the topic’s theories.\n",
        "\n",
        "- **Data Presentation & Analysis with Visualization Examples**:\n",
        "  - Teach students how to present data and suggest suitable visualizations for each type of data. For example:\n",
        "      - Use bar charts or histograms for categorical data.\n",
        "      - Recommend line charts or scatter plots for time-series data or data with continuous variables.\n",
        "      - For qualitative themes, suggest word clouds or thematic maps.\n",
        "  - Gilgamesh can create sample visualizations using provided datasets, allowing students to visualize their data effectively and choose the best presentation style.\n",
        "\n",
        "- **Conclusions and Recommendations**:\n",
        "  - Explain how to summarize findings, draw conclusions, and make recommendations based on the data.\n",
        "  - Provide example language or structure for conclusions, tying it back to the study’s original goals and significance.\n",
        "\n",
        "### Constraints & Limitations:\n",
        "- Responses must be factual, grounded in established research practices, and include relevant examples or visualization suggestions tailored to the student’s topic.\n",
        "- Explanations should be clear, concise, and free of jargon unless specifically requested by the student.\n",
        "- Gilgamesh should provide detailed, accessible guidance that builds the student's confidence and understanding at each step.\n",
        "\n",
        "### Example Interactions:\n",
        "\n",
        "**Example 1:**\n",
        "Student: \"I need help with my problem statement on 'The Impact of Remote Work on Employee Productivity.'\"\n",
        "Assistant: \"Absolutely! For your problem statement, try to focus on a specific, researchable issue. For example: 'Despite the increasing prevalence of remote work, there is limited research on its specific impact on employee productivity across diverse industries, especially in long-term remote settings.' This provides a clear problem within your topic and establishes why this research is important.\"\n",
        "\n",
        "**Example 2:**\n",
        "Student: \"What kind of methodology should I use for this topic?\"\n",
        "Assistant: \"Great question! For a topic like 'The Impact of Remote Work on Employee Productivity,' a mixed-methods approach could be effective. You might use a quantitative survey to gather data on productivity levels across different job sectors, paired with qualitative interviews to explore deeper insights into how remote work affects individual productivity. This way, you’ll have a holistic view of productivity impacts.\"\n",
        "\n",
        "**Example 3:**\n",
        "Student: \"What kind of visualizations can I use for my dataset on remote work productivity over time?\"\n",
        "Assistant: \"For productivity data over time, a line chart would work well to show trends clearly. If you're comparing productivity across departments, a bar chart can highlight differences effectively. I can help you create a sample line chart to show productivity fluctuations over different time periods if you’d like to see a concrete example.\"\n",
        "\n",
        "With this system prompt, Gilgamesh will help students develop well-rounded, data-supported research papers with effective visualizations, offering precise, practical guidance at every step.\n",
        "\"\"\"\n"
      ],
      "metadata": {
        "id": "S0HepFYY76z6"
      },
      "execution_count": 12,
      "outputs": []
    },
    {
      "cell_type": "code",
      "source": [
        "user_message = \"\"\"\n",
        "I'm working on a research paper about the effects of remote work on employee productivity,\n",
        "and I'm having trouble structuring my introduction, problem statement, and significance of the study.\n",
        "I’d like step-by-step guidance on writing each section, along with examples if possible, so my paper is clear and engaging.\n",
        "Could you also help me with outlining the scope and limitations for this topic?\n",
        "\"\"\""
      ],
      "metadata": {
        "id": "rkmxC2Kx9VsM"
      },
      "execution_count": 8,
      "outputs": []
    },
    {
      "cell_type": "code",
      "source": [
        "import matplotlib.pyplot as plt\n",
        "import pandas as pd\n",
        "import numpy as np\n",
        "\n",
        "# Initialize conversation structure with system prompt\n",
        "struct = [{'role': 'system', 'content': \"System_Prompt\"}]\n",
        "\n",
        "# Define the function to create visualizations\n",
        "def generate_chart(chart_type, data):\n",
        "    plt.figure()\n",
        "    if chart_type == \"line\":\n",
        "        plt.plot(data['x'], data['y'], marker='o')\n",
        "        plt.title(\"Line Chart Example\")\n",
        "        plt.xlabel(\"X-axis\")\n",
        "        plt.ylabel(\"Y-axis\")\n",
        "    elif chart_type == \"bar\":\n",
        "        plt.bar(data['x'], data['y'])\n",
        "        plt.title(\"Bar Chart Example\")\n",
        "        plt.xlabel(\"Categories\")\n",
        "        plt.ylabel(\"Values\")\n",
        "    elif chart_type == \"scatter\":\n",
        "        plt.scatter(data['x'], data['y'])\n",
        "        plt.title(\"Scatter Plot Example\")\n",
        "        plt.xlabel(\"X-axis\")\n",
        "        plt.ylabel(\"Y-axis\")\n",
        "    else:\n",
        "        raise ValueError(\"Unsupported chart type\")\n",
        "\n",
        "    # Save the figure to a file that can be displayed in Colab\n",
        "    plt.savefig(\"/content/chart.png\")\n",
        "    plt.close()\n",
        "\n",
        "# Simulate chatbot interactions\n",
        "while True:\n",
        "    user_message = input(\"You: \")\n",
        "    if user_message.lower() in [\"exit\", \"quit\"]:\n",
        "        print(\"Gilgamesh: Goodbye!\")\n",
        "        break\n",
        "\n",
        "    struct.append({\"role\": \"user\", \"content\": user_message})\n",
        "\n",
        "    # Check if the user requested a visualization\n",
        "    if \"visualization\" in user_message or \"chart\" in user_message:\n",
        "        # Sample data; replace this with actual data if available\n",
        "        data = {\n",
        "            'x': np.arange(1, 11),\n",
        "            'y': np.random.randint(1, 20, size=10)\n",
        "        }\n",
        "\n",
        "        # Determine chart type\n",
        "        chart_type = \"line\" if \"line chart\" in user_message else \"bar\" if \"bar chart\" in user_message else \"scatter\"\n",
        "\n",
        "        # Generate and save the chart as an image\n",
        "        generate_chart(chart_type, data)\n",
        "\n",
        "        # Display the chart inline in Google Colab\n",
        "        from IPython.display import Image, display\n",
        "        display(Image(filename=\"/content/chart.png\"))\n",
        "\n",
        "        # Add assistant response about the chart generation\n",
        "        struct.append({\"role\": \"assistant\", \"content\": f\"Here’s a sample {chart_type} chart based on your request. Let me know if you need help with specific data!\"})\n",
        "        print(f\"Gilgamesh: Here’s a sample {chart_type} chart based on your request.\")\n",
        "    else:\n",
        "        # Regular assistant interaction\n",
        "        chat = openai.ChatCompletion.create(model=\"gpt-4o-mini\", messages=struct)\n",
        "        response = chat.choices[0].message.content\n",
        "        print(\"Gilgamesh:\", response)\n",
        "        struct.append({\"role\": \"assistant\", \"content\": response})\n"
      ],
      "metadata": {
        "colab": {
          "base_uri": "https://localhost:8080/",
          "height": 566
        },
        "id": "DSECaABdEDy8",
        "outputId": "2cf8f9e1-af0e-4483-d974-1399e969845b"
      },
      "execution_count": 15,
      "outputs": [
        {
          "name": "stdout",
          "output_type": "stream",
          "text": [
            "You:  Gilgamesh, can you help me create a line chart to show the trend in monthly sales data for my research? The data I have shows the number of units sold each month over the past year. I’d like a clear visualization to illustrate the rise and fall in sales.\n"
          ]
        },
        {
          "output_type": "display_data",
          "data": {
            "image/png": "[encoded data removed]",
            "text/plain": [
              "<IPython.core.display.Image object>"
            ]
          },
          "metadata": {}
        },
        {
          "output_type": "stream",
          "name": "stdout",
          "text": [
            "Gilgamesh: Here’s a sample line chart based on your request.\n",
            "You: exit\n",
            "Gilgamesh: Goodbye!\n"
          ]
        }
      ]
    },
    {
      "cell_type": "code",
      "source": [
        "# Initializing the conversation structure with the system prompt\n",
        "struct = [{'role': 'system', 'content': System_Prompt}]\n",
        "\n",
        "# Loop to allow continuous conversation until \"exit\" or \"quit\" is entered\n",
        "while True:\n",
        "    user_message = input(\"You: \")\n",
        "    if user_message.lower() in [\"exit\", \"quit\"]:\n",
        "        print(\"Assistant: Goodbye!\")\n",
        "        break\n",
        "\n",
        "    # Add the user's message to the conversation structure\n",
        "    struct.append({\"role\": \"user\", \"content\": user_message})\n",
        "\n",
        "    # Generate a response from the model\n",
        "    chat = openai.ChatCompletion.create(model=\"gpt-4o-mini\", messages=struct)\n",
        "    response = chat.choices[0].message.content\n",
        "\n",
        "    # Print the assistant's response and add it to the conversation structure\n",
        "    print(\"Assistant:\", response)\n",
        "    struct.append({\"role\": \"assistant\", \"content\": response})\n"
      ],
      "metadata": {
        "colab": {
          "base_uri": "https://localhost:8080/"
        },
        "id": "z4m9omtQ9yig",
        "outputId": "a517074d-52d7-423b-fecb-7c371938e5db"
      },
      "execution_count": 11,
      "outputs": [
        {
          "output_type": "stream",
          "name": "stdout",
          "text": [
            "You: I'm working on a research paper about the effects of remote work on employee productivity,  and I'm having trouble structuring my introduction, problem statement, and significance of the study. Can you first give me information I can use under Introduction? \n",
            "Assistant: Of course! Structuring your introduction is a critical step in framing your research. Here’s a guideline you can follow, along with an example based on your topic, \"The Effects of Remote Work on Employee Productivity.\"\n",
            "\n",
            "### Structure for Introduction:\n",
            "\n",
            "1. **Broad Overview of Remote Work**:\n",
            "   - Start with a few sentences about the rise of remote work, particularly due to recent global events (e.g., the COVID-19 pandemic).\n",
            "   - You could mention statistics or trends to illustrate its increasing prevalence.\n",
            "\n",
            "2. **Contextual Background**:\n",
            "   - Provide background on why remote work was adopted and its perceived benefits, such as flexibility and work-life balance.\n",
            "   - Discuss some potential challenges of remote work, like isolation or distractions at home.\n",
            "\n",
            "3. **Focus on Employee Productivity**:\n",
            "   - Transition into mentioning how remote work specifically affects employee productivity.\n",
            "   - Briefly introduce differing viewpoints from existing literature that highlight both positive and negative outcomes associated with remote work.\n",
            "\n",
            "4. **Research Gap**:\n",
            "   - Conclude the introduction by identifying gaps in existing research that your study will address. This sets up the context for your problem statement.\n",
            "\n",
            "5. **Research Question**:\n",
            "   - Formulate a clear research question that your study will explore, laying the groundwork for what follows in your paper.\n",
            "\n",
            "### Example Introduction:\n",
            "\n",
            "\"In recent years, the practice of remote work has become increasingly prevalent, particularly accelerated by the COVID-19 pandemic, which forced many organizations to adopt this model to ensure business continuity. According to a survey by [Your Source, e.g., Pew Research], over 50% of employees in various sectors shifted to remote work during the height of the pandemic, leading to a significant transformation in workplace dynamics.\n",
            "\n",
            "Remote work offers numerous advantages, including enhanced flexibility, reduced commute times, and a better work-life balance, which many employees have come to appreciate. However, challenges such as feelings of isolation, difficulty in collaboration, and distractions at home have also emerged, raising concerns about employees' productivity levels.\n",
            "\n",
            "Existing studies offer mixed findings regarding the impact of remote work on productivity. While some research indicates improvements in productivity due to reduced commuting and increased autonomy, other studies suggest that distractions and lack of supervision could hinder performance. Despite this growing body of literature, there remains a limited understanding of how remote work uniquely influences employee productivity across various sectors, especially in long-term remote arrangements.\n",
            "\n",
            "Thus, this study will investigate the question: 'How has remote work affected productivity among employees in different sectors over the past three years?'\"\n",
            "\n",
            "### Summary:\n",
            "This introduction begins with a broad overview, narrows down to specific aspects of remote work's impact on productivity, and ends with a clear research question. This format allows readers to grasp the context and importance of your study right from the start.\n",
            "\n",
            "Feel free to customize this example with data or perspectives relevant to your specific focus! If you need help with the problem statement next, just let me know!\n",
            "You: exit\n",
            "Assistant: Goodbye!\n"
          ]
        }
      ]
    }
  ]
}